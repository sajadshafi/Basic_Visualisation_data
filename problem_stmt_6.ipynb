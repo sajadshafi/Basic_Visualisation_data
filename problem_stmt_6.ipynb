{
 "cells": [
  {
   "cell_type": "markdown",
   "id": "light-practitioner",
   "metadata": {},
   "source": [
    "# Problem Statement Basic Stats "
   ]
  },
  {
   "cell_type": "markdown",
   "id": "banner-asthma",
   "metadata": {},
   "source": [
    "## This assignment is about basic visualization and inferences\n",
    "\n",
    "### In this i am going to use toyotaCorolla Dataset"
   ]
  },
  {
   "cell_type": "code",
   "execution_count": 3,
   "id": "patent-guide",
   "metadata": {},
   "outputs": [],
   "source": [
    "# Imports\n",
    "import numpy as np\n",
    "import pandas as pd\n",
    "import seaborn as sns\n",
    "from matplotlib import pyplot as plt"
   ]
  },
  {
   "cell_type": "code",
   "execution_count": null,
   "id": "personal-ferry",
   "metadata": {},
   "outputs": [],
   "source": []
  },
  {
   "cell_type": "code",
   "execution_count": 6,
   "id": "contemporary-australia",
   "metadata": {},
   "outputs": [
    {
     "data": {
      "text/html": [
       "<div>\n",
       "<style scoped>\n",
       "    .dataframe tbody tr th:only-of-type {\n",
       "        vertical-align: middle;\n",
       "    }\n",
       "\n",
       "    .dataframe tbody tr th {\n",
       "        vertical-align: top;\n",
       "    }\n",
       "\n",
       "    .dataframe thead th {\n",
       "        text-align: right;\n",
       "    }\n",
       "</style>\n",
       "<table border=\"1\" class=\"dataframe\">\n",
       "  <thead>\n",
       "    <tr style=\"text-align: right;\">\n",
       "      <th></th>\n",
       "      <th>Id</th>\n",
       "      <th>Model</th>\n",
       "      <th>Price</th>\n",
       "      <th>Age_08_04</th>\n",
       "      <th>Mfg_Month</th>\n",
       "      <th>Mfg_Year</th>\n",
       "      <th>KM</th>\n",
       "      <th>Fuel_Type</th>\n",
       "      <th>HP</th>\n",
       "      <th>Met_Color</th>\n",
       "      <th>...</th>\n",
       "      <th>Central_Lock</th>\n",
       "      <th>Powered_Windows</th>\n",
       "      <th>Power_Steering</th>\n",
       "      <th>Radio</th>\n",
       "      <th>Mistlamps</th>\n",
       "      <th>Sport_Model</th>\n",
       "      <th>Backseat_Divider</th>\n",
       "      <th>Metallic_Rim</th>\n",
       "      <th>Radio_cassette</th>\n",
       "      <th>Tow_Bar</th>\n",
       "    </tr>\n",
       "  </thead>\n",
       "  <tbody>\n",
       "    <tr>\n",
       "      <th>0</th>\n",
       "      <td>1</td>\n",
       "      <td>TOYOTA Corolla 2.0 D4D HATCHB TERRA 2/3-Doors</td>\n",
       "      <td>13500</td>\n",
       "      <td>23</td>\n",
       "      <td>10</td>\n",
       "      <td>2002</td>\n",
       "      <td>46986</td>\n",
       "      <td>Diesel</td>\n",
       "      <td>90</td>\n",
       "      <td>1</td>\n",
       "      <td>...</td>\n",
       "      <td>1</td>\n",
       "      <td>1</td>\n",
       "      <td>1</td>\n",
       "      <td>0</td>\n",
       "      <td>0</td>\n",
       "      <td>0</td>\n",
       "      <td>1</td>\n",
       "      <td>0</td>\n",
       "      <td>0</td>\n",
       "      <td>0</td>\n",
       "    </tr>\n",
       "    <tr>\n",
       "      <th>1</th>\n",
       "      <td>2</td>\n",
       "      <td>TOYOTA Corolla 2.0 D4D HATCHB TERRA 2/3-Doors</td>\n",
       "      <td>13750</td>\n",
       "      <td>23</td>\n",
       "      <td>10</td>\n",
       "      <td>2002</td>\n",
       "      <td>72937</td>\n",
       "      <td>Diesel</td>\n",
       "      <td>90</td>\n",
       "      <td>1</td>\n",
       "      <td>...</td>\n",
       "      <td>1</td>\n",
       "      <td>0</td>\n",
       "      <td>1</td>\n",
       "      <td>0</td>\n",
       "      <td>0</td>\n",
       "      <td>0</td>\n",
       "      <td>1</td>\n",
       "      <td>0</td>\n",
       "      <td>0</td>\n",
       "      <td>0</td>\n",
       "    </tr>\n",
       "    <tr>\n",
       "      <th>2</th>\n",
       "      <td>3</td>\n",
       "      <td>�TOYOTA Corolla 2.0 D4D HATCHB TERRA 2/3-Doors</td>\n",
       "      <td>13950</td>\n",
       "      <td>24</td>\n",
       "      <td>9</td>\n",
       "      <td>2002</td>\n",
       "      <td>41711</td>\n",
       "      <td>Diesel</td>\n",
       "      <td>90</td>\n",
       "      <td>1</td>\n",
       "      <td>...</td>\n",
       "      <td>0</td>\n",
       "      <td>0</td>\n",
       "      <td>1</td>\n",
       "      <td>0</td>\n",
       "      <td>0</td>\n",
       "      <td>0</td>\n",
       "      <td>1</td>\n",
       "      <td>0</td>\n",
       "      <td>0</td>\n",
       "      <td>0</td>\n",
       "    </tr>\n",
       "    <tr>\n",
       "      <th>3</th>\n",
       "      <td>4</td>\n",
       "      <td>TOYOTA Corolla 2.0 D4D HATCHB TERRA 2/3-Doors</td>\n",
       "      <td>14950</td>\n",
       "      <td>26</td>\n",
       "      <td>7</td>\n",
       "      <td>2002</td>\n",
       "      <td>48000</td>\n",
       "      <td>Diesel</td>\n",
       "      <td>90</td>\n",
       "      <td>0</td>\n",
       "      <td>...</td>\n",
       "      <td>0</td>\n",
       "      <td>0</td>\n",
       "      <td>1</td>\n",
       "      <td>0</td>\n",
       "      <td>0</td>\n",
       "      <td>0</td>\n",
       "      <td>1</td>\n",
       "      <td>0</td>\n",
       "      <td>0</td>\n",
       "      <td>0</td>\n",
       "    </tr>\n",
       "    <tr>\n",
       "      <th>4</th>\n",
       "      <td>5</td>\n",
       "      <td>TOYOTA Corolla 2.0 D4D HATCHB SOL 2/3-Doors</td>\n",
       "      <td>13750</td>\n",
       "      <td>30</td>\n",
       "      <td>3</td>\n",
       "      <td>2002</td>\n",
       "      <td>38500</td>\n",
       "      <td>Diesel</td>\n",
       "      <td>90</td>\n",
       "      <td>0</td>\n",
       "      <td>...</td>\n",
       "      <td>1</td>\n",
       "      <td>1</td>\n",
       "      <td>1</td>\n",
       "      <td>0</td>\n",
       "      <td>1</td>\n",
       "      <td>0</td>\n",
       "      <td>1</td>\n",
       "      <td>0</td>\n",
       "      <td>0</td>\n",
       "      <td>0</td>\n",
       "    </tr>\n",
       "  </tbody>\n",
       "</table>\n",
       "<p>5 rows × 38 columns</p>\n",
       "</div>"
      ],
      "text/plain": [
       "   Id                                           Model  Price  Age_08_04  \\\n",
       "0   1   TOYOTA Corolla 2.0 D4D HATCHB TERRA 2/3-Doors  13500         23   \n",
       "1   2   TOYOTA Corolla 2.0 D4D HATCHB TERRA 2/3-Doors  13750         23   \n",
       "2   3  �TOYOTA Corolla 2.0 D4D HATCHB TERRA 2/3-Doors  13950         24   \n",
       "3   4   TOYOTA Corolla 2.0 D4D HATCHB TERRA 2/3-Doors  14950         26   \n",
       "4   5     TOYOTA Corolla 2.0 D4D HATCHB SOL 2/3-Doors  13750         30   \n",
       "\n",
       "   Mfg_Month  Mfg_Year     KM Fuel_Type  HP  Met_Color  ... Central_Lock  \\\n",
       "0         10      2002  46986    Diesel  90          1  ...            1   \n",
       "1         10      2002  72937    Diesel  90          1  ...            1   \n",
       "2          9      2002  41711    Diesel  90          1  ...            0   \n",
       "3          7      2002  48000    Diesel  90          0  ...            0   \n",
       "4          3      2002  38500    Diesel  90          0  ...            1   \n",
       "\n",
       "   Powered_Windows  Power_Steering  Radio  Mistlamps  Sport_Model  \\\n",
       "0                1               1      0          0            0   \n",
       "1                0               1      0          0            0   \n",
       "2                0               1      0          0            0   \n",
       "3                0               1      0          0            0   \n",
       "4                1               1      0          1            0   \n",
       "\n",
       "   Backseat_Divider  Metallic_Rim  Radio_cassette  Tow_Bar  \n",
       "0                 1             0               0        0  \n",
       "1                 1             0               0        0  \n",
       "2                 1             0               0        0  \n",
       "3                 1             0               0        0  \n",
       "4                 1             0               0        0  \n",
       "\n",
       "[5 rows x 38 columns]"
      ]
     },
     "execution_count": 6,
     "metadata": {},
     "output_type": "execute_result"
    }
   ],
   "source": [
    "# read csv\n",
    "toyota_corolla = pd.read_csv(\"ToyotaCorolla.csv\")\n",
    "toyota_corolla.head()"
   ]
  },
  {
   "cell_type": "markdown",
   "id": "catholic-barcelona",
   "metadata": {},
   "source": [
    "### WE only have to take numerical columns\n",
    "> so we will remove Model columns"
   ]
  },
  {
   "cell_type": "code",
   "execution_count": 7,
   "id": "subsequent-administrator",
   "metadata": {},
   "outputs": [],
   "source": [
    "toyota_corolla = toyota_corolla.drop([\"Model\"], axis=1)"
   ]
  },
  {
   "cell_type": "code",
   "execution_count": 8,
   "id": "christian-justice",
   "metadata": {},
   "outputs": [
    {
     "data": {
      "text/html": [
       "<div>\n",
       "<style scoped>\n",
       "    .dataframe tbody tr th:only-of-type {\n",
       "        vertical-align: middle;\n",
       "    }\n",
       "\n",
       "    .dataframe tbody tr th {\n",
       "        vertical-align: top;\n",
       "    }\n",
       "\n",
       "    .dataframe thead th {\n",
       "        text-align: right;\n",
       "    }\n",
       "</style>\n",
       "<table border=\"1\" class=\"dataframe\">\n",
       "  <thead>\n",
       "    <tr style=\"text-align: right;\">\n",
       "      <th></th>\n",
       "      <th>Id</th>\n",
       "      <th>Price</th>\n",
       "      <th>Age_08_04</th>\n",
       "      <th>Mfg_Month</th>\n",
       "      <th>Mfg_Year</th>\n",
       "      <th>KM</th>\n",
       "      <th>Fuel_Type</th>\n",
       "      <th>HP</th>\n",
       "      <th>Met_Color</th>\n",
       "      <th>Color</th>\n",
       "      <th>...</th>\n",
       "      <th>Central_Lock</th>\n",
       "      <th>Powered_Windows</th>\n",
       "      <th>Power_Steering</th>\n",
       "      <th>Radio</th>\n",
       "      <th>Mistlamps</th>\n",
       "      <th>Sport_Model</th>\n",
       "      <th>Backseat_Divider</th>\n",
       "      <th>Metallic_Rim</th>\n",
       "      <th>Radio_cassette</th>\n",
       "      <th>Tow_Bar</th>\n",
       "    </tr>\n",
       "  </thead>\n",
       "  <tbody>\n",
       "    <tr>\n",
       "      <th>0</th>\n",
       "      <td>1</td>\n",
       "      <td>13500</td>\n",
       "      <td>23</td>\n",
       "      <td>10</td>\n",
       "      <td>2002</td>\n",
       "      <td>46986</td>\n",
       "      <td>Diesel</td>\n",
       "      <td>90</td>\n",
       "      <td>1</td>\n",
       "      <td>Blue</td>\n",
       "      <td>...</td>\n",
       "      <td>1</td>\n",
       "      <td>1</td>\n",
       "      <td>1</td>\n",
       "      <td>0</td>\n",
       "      <td>0</td>\n",
       "      <td>0</td>\n",
       "      <td>1</td>\n",
       "      <td>0</td>\n",
       "      <td>0</td>\n",
       "      <td>0</td>\n",
       "    </tr>\n",
       "    <tr>\n",
       "      <th>1</th>\n",
       "      <td>2</td>\n",
       "      <td>13750</td>\n",
       "      <td>23</td>\n",
       "      <td>10</td>\n",
       "      <td>2002</td>\n",
       "      <td>72937</td>\n",
       "      <td>Diesel</td>\n",
       "      <td>90</td>\n",
       "      <td>1</td>\n",
       "      <td>Silver</td>\n",
       "      <td>...</td>\n",
       "      <td>1</td>\n",
       "      <td>0</td>\n",
       "      <td>1</td>\n",
       "      <td>0</td>\n",
       "      <td>0</td>\n",
       "      <td>0</td>\n",
       "      <td>1</td>\n",
       "      <td>0</td>\n",
       "      <td>0</td>\n",
       "      <td>0</td>\n",
       "    </tr>\n",
       "    <tr>\n",
       "      <th>2</th>\n",
       "      <td>3</td>\n",
       "      <td>13950</td>\n",
       "      <td>24</td>\n",
       "      <td>9</td>\n",
       "      <td>2002</td>\n",
       "      <td>41711</td>\n",
       "      <td>Diesel</td>\n",
       "      <td>90</td>\n",
       "      <td>1</td>\n",
       "      <td>Blue</td>\n",
       "      <td>...</td>\n",
       "      <td>0</td>\n",
       "      <td>0</td>\n",
       "      <td>1</td>\n",
       "      <td>0</td>\n",
       "      <td>0</td>\n",
       "      <td>0</td>\n",
       "      <td>1</td>\n",
       "      <td>0</td>\n",
       "      <td>0</td>\n",
       "      <td>0</td>\n",
       "    </tr>\n",
       "    <tr>\n",
       "      <th>3</th>\n",
       "      <td>4</td>\n",
       "      <td>14950</td>\n",
       "      <td>26</td>\n",
       "      <td>7</td>\n",
       "      <td>2002</td>\n",
       "      <td>48000</td>\n",
       "      <td>Diesel</td>\n",
       "      <td>90</td>\n",
       "      <td>0</td>\n",
       "      <td>Black</td>\n",
       "      <td>...</td>\n",
       "      <td>0</td>\n",
       "      <td>0</td>\n",
       "      <td>1</td>\n",
       "      <td>0</td>\n",
       "      <td>0</td>\n",
       "      <td>0</td>\n",
       "      <td>1</td>\n",
       "      <td>0</td>\n",
       "      <td>0</td>\n",
       "      <td>0</td>\n",
       "    </tr>\n",
       "    <tr>\n",
       "      <th>4</th>\n",
       "      <td>5</td>\n",
       "      <td>13750</td>\n",
       "      <td>30</td>\n",
       "      <td>3</td>\n",
       "      <td>2002</td>\n",
       "      <td>38500</td>\n",
       "      <td>Diesel</td>\n",
       "      <td>90</td>\n",
       "      <td>0</td>\n",
       "      <td>Black</td>\n",
       "      <td>...</td>\n",
       "      <td>1</td>\n",
       "      <td>1</td>\n",
       "      <td>1</td>\n",
       "      <td>0</td>\n",
       "      <td>1</td>\n",
       "      <td>0</td>\n",
       "      <td>1</td>\n",
       "      <td>0</td>\n",
       "      <td>0</td>\n",
       "      <td>0</td>\n",
       "    </tr>\n",
       "  </tbody>\n",
       "</table>\n",
       "<p>5 rows × 37 columns</p>\n",
       "</div>"
      ],
      "text/plain": [
       "   Id  Price  Age_08_04  Mfg_Month  Mfg_Year     KM Fuel_Type  HP  Met_Color  \\\n",
       "0   1  13500         23         10      2002  46986    Diesel  90          1   \n",
       "1   2  13750         23         10      2002  72937    Diesel  90          1   \n",
       "2   3  13950         24          9      2002  41711    Diesel  90          1   \n",
       "3   4  14950         26          7      2002  48000    Diesel  90          0   \n",
       "4   5  13750         30          3      2002  38500    Diesel  90          0   \n",
       "\n",
       "    Color  ...  Central_Lock  Powered_Windows  Power_Steering  Radio  \\\n",
       "0    Blue  ...             1                1               1      0   \n",
       "1  Silver  ...             1                0               1      0   \n",
       "2    Blue  ...             0                0               1      0   \n",
       "3   Black  ...             0                0               1      0   \n",
       "4   Black  ...             1                1               1      0   \n",
       "\n",
       "   Mistlamps  Sport_Model  Backseat_Divider  Metallic_Rim  Radio_cassette  \\\n",
       "0          0            0                 1             0               0   \n",
       "1          0            0                 1             0               0   \n",
       "2          0            0                 1             0               0   \n",
       "3          0            0                 1             0               0   \n",
       "4          1            0                 1             0               0   \n",
       "\n",
       "   Tow_Bar  \n",
       "0        0  \n",
       "1        0  \n",
       "2        0  \n",
       "3        0  \n",
       "4        0  \n",
       "\n",
       "[5 rows x 37 columns]"
      ]
     },
     "execution_count": 8,
     "metadata": {},
     "output_type": "execute_result"
    }
   ],
   "source": [
    "toyota_corolla.head()"
   ]
  },
  {
   "cell_type": "code",
   "execution_count": 9,
   "id": "banner-liability",
   "metadata": {},
   "outputs": [
    {
     "data": {
      "text/plain": [
       "(1436, 37)"
      ]
     },
     "execution_count": 9,
     "metadata": {},
     "output_type": "execute_result"
    }
   ],
   "source": [
    "toyota_corolla.shape"
   ]
  },
  {
   "cell_type": "markdown",
   "id": "cognitive-shoulder",
   "metadata": {},
   "source": [
    "### Ploting the columns on different graphs"
   ]
  },
  {
   "cell_type": "markdown",
   "id": "quiet-subject",
   "metadata": {},
   "source": [
    "### We Will consider just few columns that are more important"
   ]
  },
  {
   "cell_type": "code",
   "execution_count": 11,
   "id": "illegal-domain",
   "metadata": {},
   "outputs": [],
   "source": [
    "toyota_2 = toyota_corolla[[\"Price\", \"Age_08_04\", \"Mfg_Month\", \"Mfg_Year\", \"KM\", \"Fuel_Type\", \"HP\"]]"
   ]
  },
  {
   "cell_type": "code",
   "execution_count": 13,
   "id": "provincial-transaction",
   "metadata": {},
   "outputs": [
    {
     "data": {
      "text/html": [
       "<div>\n",
       "<style scoped>\n",
       "    .dataframe tbody tr th:only-of-type {\n",
       "        vertical-align: middle;\n",
       "    }\n",
       "\n",
       "    .dataframe tbody tr th {\n",
       "        vertical-align: top;\n",
       "    }\n",
       "\n",
       "    .dataframe thead th {\n",
       "        text-align: right;\n",
       "    }\n",
       "</style>\n",
       "<table border=\"1\" class=\"dataframe\">\n",
       "  <thead>\n",
       "    <tr style=\"text-align: right;\">\n",
       "      <th></th>\n",
       "      <th>Price</th>\n",
       "      <th>Age_08_04</th>\n",
       "      <th>Mfg_Month</th>\n",
       "      <th>Mfg_Year</th>\n",
       "      <th>KM</th>\n",
       "      <th>Fuel_Type</th>\n",
       "      <th>HP</th>\n",
       "    </tr>\n",
       "  </thead>\n",
       "  <tbody>\n",
       "    <tr>\n",
       "      <th>0</th>\n",
       "      <td>13500</td>\n",
       "      <td>23</td>\n",
       "      <td>10</td>\n",
       "      <td>2002</td>\n",
       "      <td>46986</td>\n",
       "      <td>Diesel</td>\n",
       "      <td>90</td>\n",
       "    </tr>\n",
       "    <tr>\n",
       "      <th>1</th>\n",
       "      <td>13750</td>\n",
       "      <td>23</td>\n",
       "      <td>10</td>\n",
       "      <td>2002</td>\n",
       "      <td>72937</td>\n",
       "      <td>Diesel</td>\n",
       "      <td>90</td>\n",
       "    </tr>\n",
       "    <tr>\n",
       "      <th>2</th>\n",
       "      <td>13950</td>\n",
       "      <td>24</td>\n",
       "      <td>9</td>\n",
       "      <td>2002</td>\n",
       "      <td>41711</td>\n",
       "      <td>Diesel</td>\n",
       "      <td>90</td>\n",
       "    </tr>\n",
       "    <tr>\n",
       "      <th>3</th>\n",
       "      <td>14950</td>\n",
       "      <td>26</td>\n",
       "      <td>7</td>\n",
       "      <td>2002</td>\n",
       "      <td>48000</td>\n",
       "      <td>Diesel</td>\n",
       "      <td>90</td>\n",
       "    </tr>\n",
       "    <tr>\n",
       "      <th>4</th>\n",
       "      <td>13750</td>\n",
       "      <td>30</td>\n",
       "      <td>3</td>\n",
       "      <td>2002</td>\n",
       "      <td>38500</td>\n",
       "      <td>Diesel</td>\n",
       "      <td>90</td>\n",
       "    </tr>\n",
       "  </tbody>\n",
       "</table>\n",
       "</div>"
      ],
      "text/plain": [
       "   Price  Age_08_04  Mfg_Month  Mfg_Year     KM Fuel_Type  HP\n",
       "0  13500         23         10      2002  46986    Diesel  90\n",
       "1  13750         23         10      2002  72937    Diesel  90\n",
       "2  13950         24          9      2002  41711    Diesel  90\n",
       "3  14950         26          7      2002  48000    Diesel  90\n",
       "4  13750         30          3      2002  38500    Diesel  90"
      ]
     },
     "execution_count": 13,
     "metadata": {},
     "output_type": "execute_result"
    }
   ],
   "source": [
    "toyota_2.head()"
   ]
  },
  {
   "cell_type": "code",
   "execution_count": null,
   "id": "clear-consent",
   "metadata": {},
   "outputs": [],
   "source": []
  },
  {
   "cell_type": "code",
   "execution_count": 23,
   "id": "developing-glossary",
   "metadata": {},
   "outputs": [
    {
     "data": {
      "text/html": [
       "<div>\n",
       "<style scoped>\n",
       "    .dataframe tbody tr th:only-of-type {\n",
       "        vertical-align: middle;\n",
       "    }\n",
       "\n",
       "    .dataframe tbody tr th {\n",
       "        vertical-align: top;\n",
       "    }\n",
       "\n",
       "    .dataframe thead th {\n",
       "        text-align: right;\n",
       "    }\n",
       "</style>\n",
       "<table border=\"1\" class=\"dataframe\">\n",
       "  <thead>\n",
       "    <tr style=\"text-align: right;\">\n",
       "      <th></th>\n",
       "      <th>Price</th>\n",
       "      <th>Age_08_04</th>\n",
       "      <th>Mfg_Month</th>\n",
       "      <th>Mfg_Year</th>\n",
       "      <th>KM</th>\n",
       "      <th>HP</th>\n",
       "    </tr>\n",
       "  </thead>\n",
       "  <tbody>\n",
       "    <tr>\n",
       "      <th>count</th>\n",
       "      <td>1436.000000</td>\n",
       "      <td>1436.000000</td>\n",
       "      <td>1436.000000</td>\n",
       "      <td>1436.000000</td>\n",
       "      <td>1436.000000</td>\n",
       "      <td>1436.000000</td>\n",
       "    </tr>\n",
       "    <tr>\n",
       "      <th>mean</th>\n",
       "      <td>10730.824513</td>\n",
       "      <td>55.947075</td>\n",
       "      <td>5.548747</td>\n",
       "      <td>1999.625348</td>\n",
       "      <td>68533.259749</td>\n",
       "      <td>101.502089</td>\n",
       "    </tr>\n",
       "    <tr>\n",
       "      <th>std</th>\n",
       "      <td>3626.964585</td>\n",
       "      <td>18.599988</td>\n",
       "      <td>3.354085</td>\n",
       "      <td>1.540722</td>\n",
       "      <td>37506.448872</td>\n",
       "      <td>14.981080</td>\n",
       "    </tr>\n",
       "    <tr>\n",
       "      <th>min</th>\n",
       "      <td>4350.000000</td>\n",
       "      <td>1.000000</td>\n",
       "      <td>1.000000</td>\n",
       "      <td>1998.000000</td>\n",
       "      <td>1.000000</td>\n",
       "      <td>69.000000</td>\n",
       "    </tr>\n",
       "    <tr>\n",
       "      <th>25%</th>\n",
       "      <td>8450.000000</td>\n",
       "      <td>44.000000</td>\n",
       "      <td>3.000000</td>\n",
       "      <td>1998.000000</td>\n",
       "      <td>43000.000000</td>\n",
       "      <td>90.000000</td>\n",
       "    </tr>\n",
       "    <tr>\n",
       "      <th>50%</th>\n",
       "      <td>9900.000000</td>\n",
       "      <td>61.000000</td>\n",
       "      <td>5.000000</td>\n",
       "      <td>1999.000000</td>\n",
       "      <td>63389.500000</td>\n",
       "      <td>110.000000</td>\n",
       "    </tr>\n",
       "    <tr>\n",
       "      <th>75%</th>\n",
       "      <td>11950.000000</td>\n",
       "      <td>70.000000</td>\n",
       "      <td>8.000000</td>\n",
       "      <td>2001.000000</td>\n",
       "      <td>87020.750000</td>\n",
       "      <td>110.000000</td>\n",
       "    </tr>\n",
       "    <tr>\n",
       "      <th>max</th>\n",
       "      <td>32500.000000</td>\n",
       "      <td>80.000000</td>\n",
       "      <td>12.000000</td>\n",
       "      <td>2004.000000</td>\n",
       "      <td>243000.000000</td>\n",
       "      <td>192.000000</td>\n",
       "    </tr>\n",
       "  </tbody>\n",
       "</table>\n",
       "</div>"
      ],
      "text/plain": [
       "              Price    Age_08_04    Mfg_Month     Mfg_Year             KM  \\\n",
       "count   1436.000000  1436.000000  1436.000000  1436.000000    1436.000000   \n",
       "mean   10730.824513    55.947075     5.548747  1999.625348   68533.259749   \n",
       "std     3626.964585    18.599988     3.354085     1.540722   37506.448872   \n",
       "min     4350.000000     1.000000     1.000000  1998.000000       1.000000   \n",
       "25%     8450.000000    44.000000     3.000000  1998.000000   43000.000000   \n",
       "50%     9900.000000    61.000000     5.000000  1999.000000   63389.500000   \n",
       "75%    11950.000000    70.000000     8.000000  2001.000000   87020.750000   \n",
       "max    32500.000000    80.000000    12.000000  2004.000000  243000.000000   \n",
       "\n",
       "                HP  \n",
       "count  1436.000000  \n",
       "mean    101.502089  \n",
       "std      14.981080  \n",
       "min      69.000000  \n",
       "25%      90.000000  \n",
       "50%     110.000000  \n",
       "75%     110.000000  \n",
       "max     192.000000  "
      ]
     },
     "execution_count": 23,
     "metadata": {},
     "output_type": "execute_result"
    }
   ],
   "source": [
    "toyota_2.describe()"
   ]
  },
  {
   "cell_type": "markdown",
   "id": "upper-karaoke",
   "metadata": {},
   "source": [
    "### Here is the description of the dataset\n",
    "#### WE have all the mean, median, mode etc."
   ]
  },
  {
   "cell_type": "markdown",
   "id": "stock-provision",
   "metadata": {},
   "source": [
    "#### in the price column  as we can see the difference between upperquantile and max value is very high leads to the conclusion that the data has outliers\n",
    "\n",
    "#### Range is very high.\n",
    "\n",
    "#### We can do same to other columns.\n",
    "\n",
    "#### Just in KM also we have high outliers"
   ]
  },
  {
   "cell_type": "code",
   "execution_count": null,
   "id": "general-beads",
   "metadata": {},
   "outputs": [],
   "source": []
  },
  {
   "cell_type": "code",
   "execution_count": 24,
   "id": "expected-worry",
   "metadata": {},
   "outputs": [
    {
     "data": {
      "text/plain": [
       "Price        1.703885\n",
       "Age_08_04   -0.826702\n",
       "Mfg_Month    0.290661\n",
       "Mfg_Year     0.911304\n",
       "KM           1.015912\n",
       "HP           0.955836\n",
       "dtype: float64"
      ]
     },
     "execution_count": 24,
     "metadata": {},
     "output_type": "execute_result"
    }
   ],
   "source": [
    "toyota_2.skew()"
   ]
  },
  {
   "cell_type": "markdown",
   "id": "pending-paraguay",
   "metadata": {},
   "source": [
    "### Price has the highest skewness in this dataset. then KM has the second highest"
   ]
  },
  {
   "cell_type": "code",
   "execution_count": null,
   "id": "appreciated-repeat",
   "metadata": {},
   "outputs": [],
   "source": []
  },
  {
   "cell_type": "markdown",
   "id": "numerical-probability",
   "metadata": {},
   "source": [
    "### Kurtosis"
   ]
  },
  {
   "cell_type": "code",
   "execution_count": 25,
   "id": "previous-input",
   "metadata": {},
   "outputs": [
    {
     "data": {
      "text/plain": [
       "Price        3.737781\n",
       "Age_08_04   -0.076632\n",
       "Mfg_Month   -1.053692\n",
       "Mfg_Year     0.070573\n",
       "KM           1.685057\n",
       "HP           8.836434\n",
       "dtype: float64"
      ]
     },
     "execution_count": 25,
     "metadata": {},
     "output_type": "execute_result"
    }
   ],
   "source": [
    "toyota_2.kurt()"
   ]
  },
  {
   "cell_type": "markdown",
   "id": "chinese-progressive",
   "metadata": {},
   "source": [
    "### In here kurtosis is also high in Price Variable so we are pretty sure that Price has outliers"
   ]
  },
  {
   "cell_type": "code",
   "execution_count": 28,
   "id": "meaning-hungarian",
   "metadata": {},
   "outputs": [
    {
     "data": {
      "image/png": "[encoded data removed]",
      "text/plain": [
       "<Figure size 1080x504 with 1 Axes>"
      ]
     },
     "metadata": {
      "needs_background": "light"
     },
     "output_type": "display_data"
    }
   ],
   "source": [
    "fig2 = plt.figure(figsize=(15,7))\n",
    "\n",
    "p1=sns.kdeplot(toyota_2[\"Price\"], shade=True, color=\"g\")"
   ]
  },
  {
   "cell_type": "markdown",
   "id": "surgical-damage",
   "metadata": {},
   "source": [
    "## Price Right Skewed"
   ]
  },
  {
   "cell_type": "code",
   "execution_count": null,
   "id": "double-mineral",
   "metadata": {},
   "outputs": [],
   "source": []
  },
  {
   "cell_type": "code",
   "execution_count": 29,
   "id": "assigned-investor",
   "metadata": {},
   "outputs": [
    {
     "data": {
      "image/png": "[encoded data removed]",
      "text/plain": [
       "<Figure size 1080x504 with 1 Axes>"
      ]
     },
     "metadata": {
      "needs_background": "light"
     },
     "output_type": "display_data"
    }
   ],
   "source": [
    "fig2 = plt.figure(figsize=(15,7))\n",
    "\n",
    "p1=sns.kdeplot(toyota_2[\"Age_08_04\"], shade=True, color=\"b\")"
   ]
  },
  {
   "cell_type": "markdown",
   "id": "proud-purpose",
   "metadata": {},
   "source": [
    "## Age is left Skewed"
   ]
  },
  {
   "cell_type": "code",
   "execution_count": null,
   "id": "billion-order",
   "metadata": {},
   "outputs": [],
   "source": []
  },
  {
   "cell_type": "code",
   "execution_count": 30,
   "id": "published-talent",
   "metadata": {},
   "outputs": [
    {
     "data": {
      "image/png": "[encoded data removed]",
      "text/plain": [
       "<Figure size 1080x504 with 1 Axes>"
      ]
     },
     "metadata": {
      "needs_background": "light"
     },
     "output_type": "display_data"
    }
   ],
   "source": [
    "fig2 = plt.figure(figsize=(15,7))\n",
    "\n",
    "p1=sns.kdeplot(toyota_2[\"HP\"], shade=True, color=\"g\")"
   ]
  },
  {
   "cell_type": "markdown",
   "id": "oriental-license",
   "metadata": {},
   "source": [
    "## HP is left skewed"
   ]
  },
  {
   "cell_type": "markdown",
   "id": "fluid-uncle",
   "metadata": {},
   "source": [
    "### And we can do the same visualization for each column"
   ]
  },
  {
   "cell_type": "code",
   "execution_count": null,
   "id": "signed-tutorial",
   "metadata": {},
   "outputs": [],
   "source": []
  },
  {
   "cell_type": "code",
   "execution_count": null,
   "id": "blank-footwear",
   "metadata": {},
   "outputs": [],
   "source": []
  },
  {
   "cell_type": "code",
   "execution_count": 34,
   "id": "acting-unemployment",
   "metadata": {},
   "outputs": [
    {
     "data": {
      "text/plain": [
       "{'whiskers': [<matplotlib.lines.Line2D at 0x7fad2bd908b0>,\n",
       "  <matplotlib.lines.Line2D at 0x7fad2bd90c10>],\n",
       " 'caps': [<matplotlib.lines.Line2D at 0x7fad2bd90f70>,\n",
       "  <matplotlib.lines.Line2D at 0x7fad2bd9c310>],\n",
       " 'boxes': [<matplotlib.lines.Line2D at 0x7fad2bd90550>],\n",
       " 'medians': [<matplotlib.lines.Line2D at 0x7fad2bd9c670>],\n",
       " 'fliers': [<matplotlib.lines.Line2D at 0x7fad2bd9c9d0>],\n",
       " 'means': []}"
      ]
     },
     "execution_count": 34,
     "metadata": {},
     "output_type": "execute_result"
    },
    {
     "data": {
      "image/png": "[encoded data removed]",
      "text/plain": [
       "<Figure size 1152x432 with 1 Axes>"
      ]
     },
     "metadata": {
      "needs_background": "light"
     },
     "output_type": "display_data"
    }
   ],
   "source": [
    "plt.figure(figsize = (16, 6))\n",
    "plt.boxplot(toyota_2[\"Price\"], vert=False)"
   ]
  },
  {
   "cell_type": "code",
   "execution_count": 35,
   "id": "hundred-protocol",
   "metadata": {},
   "outputs": [
    {
     "data": {
      "text/plain": [
       "{'whiskers': [<matplotlib.lines.Line2D at 0x7fad2bd69cd0>,\n",
       "  <matplotlib.lines.Line2D at 0x7fad2bd77070>],\n",
       " 'caps': [<matplotlib.lines.Line2D at 0x7fad2bd773d0>,\n",
       "  <matplotlib.lines.Line2D at 0x7fad2bd77730>],\n",
       " 'boxes': [<matplotlib.lines.Line2D at 0x7fad2bd69970>],\n",
       " 'medians': [<matplotlib.lines.Line2D at 0x7fad2bd77a90>],\n",
       " 'fliers': [<matplotlib.lines.Line2D at 0x7fad2bd77df0>],\n",
       " 'means': []}"
      ]
     },
     "execution_count": 35,
     "metadata": {},
     "output_type": "execute_result"
    },
    {
     "data": {
      "image/png": "[encoded data removed]",
      "text/plain": [
       "<Figure size 1152x432 with 1 Axes>"
      ]
     },
     "metadata": {
      "needs_background": "light"
     },
     "output_type": "display_data"
    }
   ],
   "source": [
    "plt.figure(figsize = (16, 6))\n",
    "plt.boxplot(toyota_2[\"Age_08_04\"], vert=False)"
   ]
  },
  {
   "cell_type": "code",
   "execution_count": 36,
   "id": "composed-private",
   "metadata": {},
   "outputs": [
    {
     "data": {
      "text/plain": [
       "{'whiskers': [<matplotlib.lines.Line2D at 0x7fad2bcd5130>,\n",
       "  <matplotlib.lines.Line2D at 0x7fad2bcd5490>],\n",
       " 'caps': [<matplotlib.lines.Line2D at 0x7fad2bcd57f0>,\n",
       "  <matplotlib.lines.Line2D at 0x7fad2bcd5b50>],\n",
       " 'boxes': [<matplotlib.lines.Line2D at 0x7fad2bcc8d90>],\n",
       " 'medians': [<matplotlib.lines.Line2D at 0x7fad2bcd5eb0>],\n",
       " 'fliers': [<matplotlib.lines.Line2D at 0x7fad2bce1250>],\n",
       " 'means': []}"
      ]
     },
     "execution_count": 36,
     "metadata": {},
     "output_type": "execute_result"
    },
    {
     "data": {
      "image/png": "[encoded data removed]",
      "text/plain": [
       "<Figure size 1152x432 with 1 Axes>"
      ]
     },
     "metadata": {
      "needs_background": "light"
     },
     "output_type": "display_data"
    }
   ],
   "source": [
    "plt.figure(figsize = (16, 6))\n",
    "plt.boxplot(toyota_2[\"KM\"], vert=False)"
   ]
  },
  {
   "cell_type": "code",
   "execution_count": 37,
   "id": "increasing-inspector",
   "metadata": {},
   "outputs": [
    {
     "data": {
      "text/plain": [
       "{'whiskers': [<matplotlib.lines.Line2D at 0x7fad2bcaf550>,\n",
       "  <matplotlib.lines.Line2D at 0x7fad2bcaf8b0>],\n",
       " 'caps': [<matplotlib.lines.Line2D at 0x7fad2bcafc10>,\n",
       "  <matplotlib.lines.Line2D at 0x7fad2bcaff70>],\n",
       " 'boxes': [<matplotlib.lines.Line2D at 0x7fad2bcaf1f0>],\n",
       " 'medians': [<matplotlib.lines.Line2D at 0x7fad2bcb8310>],\n",
       " 'fliers': [<matplotlib.lines.Line2D at 0x7fad2bcb8670>],\n",
       " 'means': []}"
      ]
     },
     "execution_count": 37,
     "metadata": {},
     "output_type": "execute_result"
    },
    {
     "data": {
      "image/png": "[encoded data removed]",
      "text/plain": [
       "<Figure size 1152x432 with 1 Axes>"
      ]
     },
     "metadata": {
      "needs_background": "light"
     },
     "output_type": "display_data"
    }
   ],
   "source": [
    "plt.figure(figsize = (16, 6))\n",
    "plt.boxplot(toyota_2[\"HP\"], vert=False)"
   ]
  },
  {
   "cell_type": "markdown",
   "id": "annoying-drive",
   "metadata": {},
   "source": [
    "### Hp has only one outlier"
   ]
  },
  {
   "cell_type": "code",
   "execution_count": 34,
   "id": "built-stereo",
   "metadata": {},
   "outputs": [
    {
     "data": {
      "text/plain": [
       "{'whiskers': [<matplotlib.lines.Line2D at 0x7fad2bd908b0>,\n",
       "  <matplotlib.lines.Line2D at 0x7fad2bd90c10>],\n",
       " 'caps': [<matplotlib.lines.Line2D at 0x7fad2bd90f70>,\n",
       "  <matplotlib.lines.Line2D at 0x7fad2bd9c310>],\n",
       " 'boxes': [<matplotlib.lines.Line2D at 0x7fad2bd90550>],\n",
       " 'medians': [<matplotlib.lines.Line2D at 0x7fad2bd9c670>],\n",
       " 'fliers': [<matplotlib.lines.Line2D at 0x7fad2bd9c9d0>],\n",
       " 'means': []}"
      ]
     },
     "execution_count": 34,
     "metadata": {},
     "output_type": "execute_result"
    },
    {
     "data": {
      "image/png": "[encoded data removed]",
      "text/plain": [
       "<Figure size 1152x432 with 1 Axes>"
      ]
     },
     "metadata": {
      "needs_background": "light"
     },
     "output_type": "display_data"
    }
   ],
   "source": [
    "plt.figure(figsize = (16, 6))\n",
    "plt.boxplot(toyota_2[\"Price\"], vert=False)"
   ]
  },
  {
   "cell_type": "code",
   "execution_count": null,
   "id": "accredited-numbers",
   "metadata": {},
   "outputs": [],
   "source": []
  },
  {
   "cell_type": "code",
   "execution_count": null,
   "id": "smooth-belly",
   "metadata": {},
   "outputs": [],
   "source": []
  },
  {
   "cell_type": "markdown",
   "id": "oriented-administration",
   "metadata": {},
   "source": [
    "### This dataset toyota has a bunch of outliers"
   ]
  },
  {
   "cell_type": "code",
   "execution_count": null,
   "id": "underlying-milwaukee",
   "metadata": {},
   "outputs": [],
   "source": []
  },
  {
   "cell_type": "code",
   "execution_count": null,
   "id": "conventional-poison",
   "metadata": {},
   "outputs": [],
   "source": []
  },
  {
   "cell_type": "code",
   "execution_count": null,
   "id": "cheap-proposal",
   "metadata": {},
   "outputs": [],
   "source": []
  },
  {
   "cell_type": "markdown",
   "id": "disabled-batch",
   "metadata": {},
   "source": [
    "## As we see here the dataset has so many outliers. We have seen skewness and kurtosis"
   ]
  }
 ],
 "metadata": {
  "kernelspec": {
   "display_name": "Python 3",
   "language": "python",
   "name": "python3"
  },
  "language_info": {
   "codemirror_mode": {
    "name": "ipython",
    "version": 3
   },
   "file_extension": ".py",
   "mimetype": "text/x-python",
   "name": "python",
   "nbconvert_exporter": "python",
   "pygments_lexer": "ipython3",
   "version": "3.8.5"
  }
 },
 "nbformat": 4,
 "nbformat_minor": 5
}
